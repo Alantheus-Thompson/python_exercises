{
 "cells": [
  {
   "cell_type": "code",
   "execution_count": 38,
   "id": "739d9fae",
   "metadata": {},
   "outputs": [
    {
     "name": "stdout",
     "output_type": "stream",
     "text": [
      "Hell no\n"
     ]
    }
   ],
   "source": [
    "# Define a function named is_two. It should accept one input and return True if the passed input is either the \n",
    "# number or the string 2, False otherwise.\n",
    "\n",
    "# Method 1\n",
    "\n",
    "# def is_two(input):\n",
    "#     if input == 'two' or input == 2:\n",
    "#         return 'way to follow directions!'\n",
    "#     else:\n",
    "#         return 'come on knuckle head'\n",
    "\n",
    "# print(is_two(-7))\n",
    "\n",
    "# Mehtod 2\n",
    "\n",
    "def is_two(input):\n",
    "    return input == 'two' or input == 2\n",
    "\n",
    "print(is_two(2))"
   ]
  },
  {
   "cell_type": "code",
   "execution_count": 50,
   "id": "79994237",
   "metadata": {},
   "outputs": [
    {
     "name": "stdout",
     "output_type": "stream",
     "text": [
      "Noooooooo!!!!\n"
     ]
    }
   ],
   "source": [
    "# Define a function named is_vowel. It should return True if the passed string is a vowel, False otherwise.\n",
    "\n",
    "# Method 1\n",
    "\n",
    "def is_vowel(character):\n",
    "    vowels = ['a','e','i','o','u']\n",
    "    return character.lower() in vowels\n",
    "\n",
    "print(is_vowel('a'))\n",
    "\n",
    "# Method 2\n",
    "\n",
    "# def is_vowel(character):\n",
    "#     vowels = ['a','e','i','o','u']\n",
    "#     if character in vowels[0]:  ### IF parameter IN variable:  ***Use variable[] to designate position within \n",
    "#         # ***variable which could be position in a string, list, etc\n",
    "#         return 'Voooooowellllllll'\n",
    "#     else:\n",
    "#         return 'Noooooooo!!!!'\n",
    "    \n",
    "# print(is_vowel('e'))"
   ]
  },
  {
   "cell_type": "code",
   "execution_count": 18,
   "id": "0a08d598",
   "metadata": {},
   "outputs": [
    {
     "name": "stdout",
     "output_type": "stream",
     "text": [
      "True\n"
     ]
    }
   ],
   "source": [
    "# Define a function named is_consonant. It should return True if the passed string is a consonant, False otherwise. \n",
    "# Use your is_vowel function to accomplish this.\n",
    "\n",
    "def is_consonant(character):\n",
    "    return not is_vowel(character) ### not in front of function reverses output. \n",
    "\n",
    "print(is_consonant('b'))"
   ]
  },
  {
   "cell_type": "code",
   "execution_count": 102,
   "id": "06862488",
   "metadata": {},
   "outputs": [
    {
     "name": "stdout",
     "output_type": "stream",
     "text": [
      "stunner\n"
     ]
    }
   ],
   "source": [
    "# Define a function that accepts a string that is a word. The function should capitalize the first letter of the \n",
    "# word if the word starts with a consonant.\n",
    "\n",
    "def cap_first_letter_if_consonant(word):\n",
    "    if word and not is_vowel(word[0]):  \n",
    "        \n",
    "        ### IF parameter CONDITION can call other function ***is_vowel function\n",
    "        ### originally set up as is_vowel(character) so although parameter is named one thing can replace with name\n",
    "        ### of parameter function currently working in.  ***word[0] evaluates first position of parameter word***\n",
    "        \n",
    "        return word[0].upper() + word[1:] \n",
    "    \n",
    "        ### word[0].upper() capitalizes first letter of parameter and then adds \n",
    "        ### back remaining letters\n",
    "    \n",
    "    else:\n",
    "        return word\n",
    "\n",
    "print(cap_first_letter_if_consonant('stunner'))  "
   ]
  },
  {
   "cell_type": "code",
   "execution_count": 64,
   "id": "346964e3",
   "metadata": {},
   "outputs": [
    {
     "name": "stdout",
     "output_type": "stream",
     "text": [
      "20.0\n"
     ]
    }
   ],
   "source": [
    "# Define a function named calculate_tip. It should accept a tip percentage (a number between 0 and 1) and the bill \n",
    "# total, and return the amount to tip.\n",
    "\n",
    "def calculate_tip(bill, tip_percent):\n",
    "    return bill * tip_percent\n",
    "\n",
    "print(calculate_tip(100,.2))"
   ]
  },
  {
   "cell_type": "code",
   "execution_count": 66,
   "id": "507d1831",
   "metadata": {},
   "outputs": [
    {
     "name": "stdout",
     "output_type": "stream",
     "text": [
      "80.0\n"
     ]
    }
   ],
   "source": [
    "# Define a function named apply_discount. It should accept a original price, and a discount percentage, and return \n",
    "# the price after the discount is applied.\n",
    "\n",
    "def apply_discount(op, dp): ### op = original price; dp = discount percent\n",
    "    return op * (1-dp)\n",
    "\n",
    "print(apply_discount(100,.2))"
   ]
  },
  {
   "cell_type": "code",
   "execution_count": 104,
   "id": "20586bef",
   "metadata": {},
   "outputs": [
    {
     "name": "stdout",
     "output_type": "stream",
     "text": [
      "1000000\n"
     ]
    }
   ],
   "source": [
    "# Define a function named handle_commas. It should accept a string that is a number that contains commas in it as \n",
    "# input, and return a number as output.\n",
    "\n",
    "def handle_commas(number_string):\n",
    "    number_string = number_string.replace(\",\", \"\")\n",
    "    return int(number_string)\n",
    "\n",
    "print(handle_commas('1,000,000'))\n",
    "\n"
   ]
  },
  {
   "cell_type": "code",
   "execution_count": 78,
   "id": "955afded",
   "metadata": {},
   "outputs": [
    {
     "name": "stdout",
     "output_type": "stream",
     "text": [
      "A\n"
     ]
    }
   ],
   "source": [
    "# Define a function named get_letter_grade. It should accept a number and return the letter grade associated with \n",
    "# that number (A-F).\n",
    "\n",
    "def get_letter_grade(grade_input):\n",
    "    \n",
    "    grades = {\n",
    "    'A' : (88,100),\n",
    "    'B' : (80,87),\n",
    "    'C' : (67,79),\n",
    "    'D' : (60, 66),\n",
    "    'F' : (0, 65)\n",
    "}\n",
    "    for grade, (lower,upper) in grades.items():\n",
    "        if lower <= grade_input <= upper:\n",
    "            return grade\n",
    "    \n",
    "print(get_letter_grade(88))\n",
    "        \n",
    "    "
   ]
  },
  {
   "cell_type": "code",
   "execution_count": 100,
   "id": "dee672a2",
   "metadata": {},
   "outputs": [
    {
     "name": "stdout",
     "output_type": "stream",
     "text": [
      "lnths\n"
     ]
    }
   ],
   "source": [
    "# Define a function named remove_vowels that accepts a string and returns a string with all the vowels removed.\n",
    "\n",
    "def remove_vowels(string):\n",
    "    vowels = 'aeiouAEIOU'\n",
    "    string = ''.join(char for char in string if char not in vowels)\n",
    "    return string\n",
    "\n",
    "\n",
    "print(remove_vowels('Alantheus'))"
   ]
  },
  {
   "cell_type": "code",
   "execution_count": 93,
   "id": "1f930eea",
   "metadata": {},
   "outputs": [
    {
     "name": "stdout",
     "output_type": "stream",
     "text": [
      "after_while_crocodile\n"
     ]
    }
   ],
   "source": [
    "# Define a function named normalize_name. It should accept a string and return a valid python identifier, that is:\n",
    "\n",
    "# anything that is not a valid python identifier should be removed\n",
    "    # valid python identifiers are alphabets and 0 thru 9\n",
    "# leading and trailing whitespace should be removed\n",
    "    # .strip() takes out leading and trailing edge space   \n",
    "# everything should be lowercase\n",
    "     # .lower() lowers all letters\n",
    "# spaces should be replaced with underscores\n",
    "    # .replace() removes conditions mentioned\n",
    "\n",
    "    # for example:\n",
    "# Name will become name\n",
    "# First Name will become first_name\n",
    "# % Completed will become completed\n",
    "\n",
    "def normalize_name(string):\n",
    "    normalize_name = string.strip().lower()\n",
    "    normalize_name = normalize_name.replace(' ', '_')\n",
    "    valid_py_ids = 'abcdefghijklmnopqrstuvwxyz0123456789_'\n",
    "    normalize_name = ''.join(char for char in normalize_name if char in valid_py_ids)\n",
    "\n",
    "    return normalize_name\n",
    "\n",
    "print(normalize_name('After While Crocodile'))\n",
    "    "
   ]
  },
  {
   "cell_type": "code",
   "execution_count": 94,
   "id": "620c8043",
   "metadata": {},
   "outputs": [
    {
     "name": "stdout",
     "output_type": "stream",
     "text": [
      "[1, 2, 3]\n",
      "[1, 3, 6, 10]\n"
     ]
    }
   ],
   "source": [
    "# Write a function named cumulative_sum that accepts a list of numbers and returns a list that is the cumulative \n",
    "# sum of the numbers in the list.\n",
    "\n",
    "# cumulative_sum([1, 1, 1]) returns [1, 2, 3]\n",
    "# cumulative_sum([1, 2, 3, 4]) returns [1, 3, 6, 10]\n",
    "\n",
    "def cumulative_sum(num_list):\n",
    "    cumulative = []  # Initialize an empty list to store the cumulative sum\n",
    "    total = 0  # Initialize a total to accumulate the sum\n",
    "\n",
    "    for num in num_list:\n",
    "        total += num  # Add the current number to the total\n",
    "        cumulative.append(total)  # Append the total to the cumulative list\n",
    "\n",
    "    return cumulative\n",
    "\n",
    "print(cumulative_sum([1, 1, 1]))  # Output: [1, 2, 3]\n",
    "print(cumulative_sum([1, 2, 3, 4]))  # Output: [1, 3, 6, 10]\n"
   ]
  }
 ],
 "metadata": {
  "kernelspec": {
   "display_name": "Python 3 (ipykernel)",
   "language": "python",
   "name": "python3"
  },
  "language_info": {
   "codemirror_mode": {
    "name": "ipython",
    "version": 3
   },
   "file_extension": ".py",
   "mimetype": "text/x-python",
   "name": "python",
   "nbconvert_exporter": "python",
   "pygments_lexer": "ipython3",
   "version": "3.11.5"
  }
 },
 "nbformat": 4,
 "nbformat_minor": 5
}
