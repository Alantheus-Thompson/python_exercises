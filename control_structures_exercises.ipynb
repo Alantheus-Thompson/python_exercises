{
 "cells": [
  {
   "cell_type": "code",
   "execution_count": 4,
   "id": "db8bbec5",
   "metadata": {},
   "outputs": [
    {
     "name": "stdout",
     "output_type": "stream",
     "text": [
      "Enter day of the week: sunday\n",
      "It is not Monday.\n",
      "Enter day of the week: monday\n",
      "It is a weekday :(\n",
      "Gross weekly pay is: $3900.00\n",
      "Total Hours worked are: 48 hrs\n"
     ]
    }
   ],
   "source": [
    "# Conditional Basics\n",
    "\n",
    "# Prompt the user for a day of the week, print out whether the day is Monday or not\n",
    "\n",
    "day_of_the_week = input('Enter day of the week: ')\n",
    "if day_of_the_week.lower() == 'monday':\n",
    "    print('It is Monday.')\n",
    "else:\n",
    "    print('It is not Monday.')\n",
    "    \n",
    "# Prompt the user for a day of the week, print out whether the day is a weekday or a weekend\n",
    "\n",
    "day_of_the_week = input ('Enter day of the week: ')\n",
    "weekend = ('saturday', 'sunday')\n",
    "if day_of_the_week.lower() in weekend:\n",
    "    print('It is a weekend!')\n",
    "else:\n",
    "    print('It is a weekday :(')\n",
    "\n",
    "# Calculate a weekly paycheck, accounting for overtime pay. Create variables and make up values for:\n",
    "\n",
    "rpay = 75\n",
    "otpay = rpay * 1.5\n",
    "\n",
    "hrs_wrkd_p_day = {\n",
    "    'monday': 8, 'tuesday': 8, 'wednesday': 8, 'thursday': 8, 'friday': 8, 'saturday': 8, 'sunday': 0\n",
    "}\n",
    "\n",
    "total_hrs_wrkd = sum(hrs_wrkd_p_day.values())\n",
    "\n",
    "if total_hrs_wrkd <= 40:\n",
    "    total_pay = total_hrs_wrkd * rpay\n",
    "else:\n",
    "    total_pay = (rpay *40) + ((total_hrs_wrkd - 40) * otpay)\n",
    "    \n",
    "print(f'Gross weekly pay is: ${total_pay:.2f}')\n",
    "print(f'Total Hours worked are: {total_hrs_wrkd} hrs')\n",
    "\n"
   ]
  },
  {
   "cell_type": "code",
   "execution_count": 5,
   "id": "c32c0c42",
   "metadata": {},
   "outputs": [
    {
     "name": "stdout",
     "output_type": "stream",
     "text": [
      "6\n",
      "7\n",
      "8\n",
      "9\n",
      "10\n",
      "11\n",
      "12\n",
      "13\n",
      "14\n",
      "15\n",
      "16\n",
      "16\n",
      "You have reached your limit.\n"
     ]
    }
   ],
   "source": [
    "# Loop Basics\n",
    "\n",
    "# While\n",
    "\n",
    "# Create an integer variable i with a value of 5. Create a while loop that runs so long as i is less than or equal \n",
    "# to 15. Each loop iteration, output the current value of i, then increment i by one.\n",
    "\n",
    "i = 5\n",
    "while i <= 15:\n",
    "    i += 1\n",
    "    print(i)\n",
    "else:\n",
    "    print(i)\n",
    "    print('You have reached your limit.')"
   ]
  },
  {
   "cell_type": "code",
   "execution_count": 6,
   "id": "231cbf42",
   "metadata": {},
   "outputs": [
    {
     "name": "stdout",
     "output_type": "stream",
     "text": [
      "0\n",
      "2\n",
      "4\n",
      "6\n",
      "8\n",
      "10\n",
      "12\n",
      "14\n",
      "16\n",
      "18\n",
      "20\n",
      "22\n",
      "24\n",
      "26\n",
      "28\n",
      "30\n",
      "32\n",
      "34\n",
      "36\n",
      "38\n",
      "40\n",
      "42\n",
      "44\n",
      "46\n",
      "48\n",
      "50\n",
      "52\n",
      "54\n",
      "56\n",
      "58\n",
      "60\n",
      "62\n",
      "64\n",
      "66\n",
      "68\n",
      "70\n",
      "72\n",
      "74\n",
      "76\n",
      "78\n",
      "80\n",
      "82\n",
      "84\n",
      "86\n",
      "88\n",
      "90\n",
      "92\n",
      "94\n",
      "96\n",
      "98\n",
      "100\n",
      "102\n",
      "Fin\n"
     ]
    }
   ],
   "source": [
    "# Create a while loop that will count by 2's starting with 0 and ending at 100. Follow each number with a new line.\n",
    "\n",
    "i = 0\n",
    "print(i)\n",
    "while i <= 100:\n",
    "    i += 2\n",
    "    print (i)\n",
    "else:\n",
    "    print('Fin')"
   ]
  },
  {
   "cell_type": "code",
   "execution_count": 7,
   "id": "0ba5d0bc",
   "metadata": {},
   "outputs": [
    {
     "name": "stdout",
     "output_type": "stream",
     "text": [
      "2\n",
      "4\n",
      "16\n",
      "256\n",
      "65536\n",
      "4294967296\n",
      "fin\n"
     ]
    }
   ],
   "source": [
    "# Create a while loop that starts at 2, and displays the number squared on each line while the number is less than \n",
    "# 1,000,000. Output should equal:\n",
    "\n",
    "i = 2\n",
    "print (i)\n",
    "\n",
    "while i < 1000000:\n",
    "    i = i**2\n",
    "    print(i)\n",
    "else:\n",
    "    print('fin')"
   ]
  },
  {
   "cell_type": "code",
   "execution_count": 3,
   "id": "15214228",
   "metadata": {},
   "outputs": [
    {
     "name": "stdout",
     "output_type": "stream",
     "text": [
      "100\n",
      "95\n",
      "90\n",
      "85\n",
      "80\n",
      "75\n",
      "70\n",
      "65\n",
      "60\n",
      "55\n",
      "50\n",
      "45\n",
      "40\n",
      "35\n",
      "30\n",
      "25\n",
      "20\n",
      "15\n",
      "10\n",
      "5\n"
     ]
    }
   ],
   "source": [
    "# Write a while loop that uses print to create the output shown below. 100 to 5 in increments of 5\n",
    "\n",
    "i = 100\n",
    "print(i)\n",
    "while i >= 10:\n",
    "    i -= 5\n",
    "    print(i)\n",
    "\n",
    "    \n",
    "    "
   ]
  },
  {
   "cell_type": "code",
   "execution_count": 16,
   "id": "0171e306",
   "metadata": {},
   "outputs": [
    {
     "name": "stdout",
     "output_type": "stream",
     "text": [
      "Enter any number: 4\n",
      "4*1 = 4\n",
      "4*2 = 8\n",
      "4*3 = 12\n",
      "4*4 = 16\n",
      "4*5 = 20\n",
      "4*6 = 24\n",
      "4*7 = 28\n",
      "4*8 = 32\n",
      "4*9 = 36\n",
      "4*10 = 40\n"
     ]
    }
   ],
   "source": [
    "# For Loops\n",
    "\n",
    "# Write some code using a for loop that prompts the user for a number, then shows a multiplication table up \n",
    "# through 10 for that number.\n",
    "\n",
    "# For example, if the user enters 7, your program should output:\n",
    "\n",
    "number_input = int(input('Enter any number: '))\n",
    "\n",
    "for i in range(1,11):\n",
    "    result = number_input * i\n",
    "    print(f'{number_input}*{i} = {result}') ### where print line is matters"
   ]
  },
  {
   "cell_type": "code",
   "execution_count": 17,
   "id": "37cc39c7",
   "metadata": {},
   "outputs": [
    {
     "name": "stdout",
     "output_type": "stream",
     "text": [
      "1\n",
      "22\n",
      "333\n",
      "4444\n",
      "55555\n",
      "666666\n",
      "7777777\n",
      "88888888\n",
      "999999999\n"
     ]
    }
   ],
   "source": [
    "# Create a for loop that uses print to create the output shown below.\n",
    "\n",
    "\n",
    "for i in range(1, 10):\n",
    "    print(str(i) * i)\n"
   ]
  },
  {
   "cell_type": "code",
   "execution_count": 22,
   "id": "6c3e0166",
   "metadata": {},
   "outputs": [
    {
     "name": "stdout",
     "output_type": "stream",
     "text": [
      "Enter a number > 0: 4\n",
      "4\n",
      "3\n",
      "2\n",
      "1\n"
     ]
    }
   ],
   "source": [
    "# break and continue\n",
    "\n",
    "# Write a program that prompts the user for a positive integer. Next write a loop that prints out the numbers from \n",
    "# the number the user entered down to 1.\n",
    "\n",
    "\n",
    "#WHILE\n",
    "# pos_int = abs(int(input('Enter a number > 0: ')))\n",
    "\n",
    "# print(pos_int)\n",
    "# while pos_int > 1:\n",
    "#     pos_int -= 1\n",
    "#     print (pos_int)\n",
    "    \n",
    "pos_int = abs(int(input('Enter a number > 0: ')))\n",
    "\n",
    "for i in range(pos_int, 0, -1): # (pos_int = start value, 0 = stop value, -1 = step value)\n",
    "    print(i)\n"
   ]
  },
  {
   "cell_type": "code",
   "execution_count": 25,
   "id": "b6d61b98",
   "metadata": {},
   "outputs": [
    {
     "name": "stdout",
     "output_type": "stream",
     "text": [
      "Enter a + num: 5\n",
      "0\n",
      "1\n",
      "2\n",
      "3\n",
      "4\n",
      "5\n"
     ]
    }
   ],
   "source": [
    "# The input function can be used to prompt for input and use that input in your python code. Prompt the user to \n",
    "# enter a positive number and write a loop that counts from 0 to that number. (Hints: note that the input function \n",
    "# returns a string, so you'll need to convert this to a numeric type.)\n",
    "\n",
    "pos_num = abs(int(input('Enter a + num: ')))\n",
    "for i in range(0, pos_num +1, 1):\n",
    "    print(i)"
   ]
  },
  {
   "cell_type": "code",
   "execution_count": null,
   "id": "c4965430",
   "metadata": {},
   "outputs": [],
   "source": [
    "# Prompt the user for an odd number between 1 and 50. Use a loop and a break statement to continue prompting the user \n",
    "# if they enter invalid input. (Hint: use the isdigit method on strings to determine this). Use a loop and the \n",
    "# continue statement to output all the odd numbers between 1 and 50, except for the number the user entered.\n",
    "odd_num_btwn_1_to_50 = int(input('Enter a # btwn 1 & 50: '))\n"
   ]
  }
 ],
 "metadata": {
  "kernelspec": {
   "display_name": "Python 3 (ipykernel)",
   "language": "python",
   "name": "python3"
  },
  "language_info": {
   "codemirror_mode": {
    "name": "ipython",
    "version": 3
   },
   "file_extension": ".py",
   "mimetype": "text/x-python",
   "name": "python",
   "nbconvert_exporter": "python",
   "pygments_lexer": "ipython3",
   "version": "3.11.5"
  }
 },
 "nbformat": 4,
 "nbformat_minor": 5
}
