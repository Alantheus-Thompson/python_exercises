{
 "cells": [
  {
   "cell_type": "code",
   "execution_count": 25,
   "id": "db8bbec5",
   "metadata": {},
   "outputs": [
    {
     "name": "stdout",
     "output_type": "stream",
     "text": [
      "Enter day of the week: monday\n",
      "It is Monday.\n",
      "Enter day of the week: saturday\n",
      "It is a weekend!\n",
      "Gross weekly pay is: $3900.00\n",
      "Total Hours worked are: 48 hrs\n"
     ]
    }
   ],
   "source": [
    "# Conditional Basics\n",
    "\n",
    "# Prompt the user for a day of the week, print out whether the day is Monday or not\n",
    "\n",
    "day_of_the_week = input('Enter day of the week: ')\n",
    "if day_of_the_week.lower() == 'monday':\n",
    "    print('It is Monday.')\n",
    "else:\n",
    "    print('It is not Monday.')\n",
    "    \n",
    "# Prompt the user for a day of the week, print out whether the day is a weekday or a weekend\n",
    "\n",
    "day_of_the_week = input ('Enter day of the week: ')\n",
    "weekend = ('saturday', 'sunday')\n",
    "if day_of_the_week.lower() in weekend:\n",
    "    print('It is a weekend!')\n",
    "else:\n",
    "    print('It is a weekday :(')\n",
    "\n",
    "# Calculate a weekly paycheck, accounting for overtime pay. Create variables and make up values for:\n",
    "\n",
    "rpay = 75\n",
    "otpay = rpay * 1.5\n",
    "\n",
    "hrs_wrkd_p_day = {\n",
    "    'monday': 8, 'tuesday': 8, 'wednesday': 8, 'thursday': 8, 'friday': 8, 'saturday': 8, 'sunday': 0\n",
    "}\n",
    "\n",
    "total_hrs_wrkd = sum(hrs_wrkd_p_day.values())\n",
    "\n",
    "if total_hrs_wrkd <= 40:\n",
    "    total_pay = total_hrs_wrkd * rpay\n",
    "else:\n",
    "    total_pay = (rpay *40) + ((total_hrs_wrkd - 40) * otpay)\n",
    "    \n",
    "print(f'Gross weekly pay is: ${total_pay:.2f}')\n",
    "print(f'Total Hours worked are: {total_hrs_wrkd} hrs')\n",
    "\n"
   ]
  },
  {
   "cell_type": "code",
   "execution_count": 31,
   "id": "c32c0c42",
   "metadata": {},
   "outputs": [
    {
     "name": "stdout",
     "output_type": "stream",
     "text": [
      "6\n",
      "7\n",
      "8\n",
      "9\n",
      "10\n",
      "11\n",
      "12\n",
      "13\n",
      "14\n",
      "15\n",
      "16\n",
      "16\n",
      "You have reached your limit.\n"
     ]
    }
   ],
   "source": [
    "# Loop Basics\n",
    "\n",
    "# While\n",
    "\n",
    "# Create an integer variable i with a value of 5. Create a while loop that runs so long as i is less than or equal \n",
    "# to 15. Each loop iteration, output the current value of i, then increment i by one.\n",
    "\n",
    "i = 5\n",
    "while i <= 15:\n",
    "    i += 1\n",
    "    print(i)\n",
    "else:\n",
    "    print(i)\n",
    "    print('You have reached your limit.')"
   ]
  },
  {
   "cell_type": "code",
   "execution_count": 33,
   "id": "231cbf42",
   "metadata": {},
   "outputs": [
    {
     "name": "stdout",
     "output_type": "stream",
     "text": [
      "0\n",
      "2\n",
      "4\n",
      "6\n",
      "8\n",
      "10\n",
      "12\n",
      "14\n",
      "16\n",
      "18\n",
      "20\n",
      "22\n",
      "24\n",
      "26\n",
      "28\n",
      "30\n",
      "32\n",
      "34\n",
      "36\n",
      "38\n",
      "40\n",
      "42\n",
      "44\n",
      "46\n",
      "48\n",
      "50\n",
      "52\n",
      "54\n",
      "56\n",
      "58\n",
      "60\n",
      "62\n",
      "64\n",
      "66\n",
      "68\n",
      "70\n",
      "72\n",
      "74\n",
      "76\n",
      "78\n",
      "80\n",
      "82\n",
      "84\n",
      "86\n",
      "88\n",
      "90\n",
      "92\n",
      "94\n",
      "96\n",
      "98\n",
      "100\n",
      "102\n",
      "Fin\n"
     ]
    }
   ],
   "source": [
    "# Create a while loop that will count by 2's starting with 0 and ending at 100. Follow each number with a new line.\n",
    "\n",
    "i = 0\n",
    "print(i)\n",
    "while i <= 100:\n",
    "    i += 2\n",
    "    print (i)\n",
    "else:\n",
    "    print('Fin')"
   ]
  },
  {
   "cell_type": "code",
   "execution_count": null,
   "id": "0ba5d0bc",
   "metadata": {},
   "outputs": [],
   "source": [
    "# Create a while loop that starts at 2, and displays the number squared on each line while the number is less than \n",
    "# 1,000,000. Output should equal:\n",
    "\n",
    "i = 2\n",
    "print (i)\n",
    "\n",
    "while i < 1000000:\n",
    "    i = i**2\n",
    "if i < 1000000:\n",
    "    print(i)\n",
    "else:\n",
    "    print('fin')"
   ]
  },
  {
   "cell_type": "code",
   "execution_count": null,
   "id": "49cb13df",
   "metadata": {},
   "outputs": [],
   "source": []
  }
 ],
 "metadata": {
  "kernelspec": {
   "display_name": "Python 3 (ipykernel)",
   "language": "python",
   "name": "python3"
  },
  "language_info": {
   "codemirror_mode": {
    "name": "ipython",
    "version": 3
   },
   "file_extension": ".py",
   "mimetype": "text/x-python",
   "name": "python",
   "nbconvert_exporter": "python",
   "pygments_lexer": "ipython3",
   "version": "3.11.5"
  }
 },
 "nbformat": 4,
 "nbformat_minor": 5
}
