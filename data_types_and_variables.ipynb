{
 "cells": [
  {
   "cell_type": "code",
   "execution_count": null,
   "id": "08e78a4d",
   "metadata": {},
   "outputs": [],
   "source": [
    "# 1 What are the following data types"
   ]
  },
  {
   "cell_type": "code",
   "execution_count": 8,
   "id": "fb018196",
   "metadata": {},
   "outputs": [
    {
     "data": {
      "text/plain": [
       "float"
      ]
     },
     "execution_count": 8,
     "metadata": {},
     "output_type": "execute_result"
    }
   ],
   "source": [
    "type(99.9)"
   ]
  },
  {
   "cell_type": "code",
   "execution_count": 5,
   "id": "39fca217",
   "metadata": {},
   "outputs": [
    {
     "data": {
      "text/plain": [
       "bool"
      ]
     },
     "execution_count": 5,
     "metadata": {},
     "output_type": "execute_result"
    }
   ],
   "source": [
    "type(False)"
   ]
  },
  {
   "cell_type": "code",
   "execution_count": 9,
   "id": "4ebefdc5",
   "metadata": {},
   "outputs": [
    {
     "data": {
      "text/plain": [
       "str"
      ]
     },
     "execution_count": 9,
     "metadata": {},
     "output_type": "execute_result"
    }
   ],
   "source": [
    "type(\"False\")"
   ]
  },
  {
   "cell_type": "code",
   "execution_count": 10,
   "id": "c7188bc3",
   "metadata": {},
   "outputs": [
    {
     "data": {
      "text/plain": [
       "str"
      ]
     },
     "execution_count": 10,
     "metadata": {},
     "output_type": "execute_result"
    }
   ],
   "source": [
    "type('0')"
   ]
  },
  {
   "cell_type": "code",
   "execution_count": 11,
   "id": "8cf23d25",
   "metadata": {},
   "outputs": [
    {
     "data": {
      "text/plain": [
       "int"
      ]
     },
     "execution_count": 11,
     "metadata": {},
     "output_type": "execute_result"
    }
   ],
   "source": [
    "type(0)\n"
   ]
  },
  {
   "cell_type": "code",
   "execution_count": 12,
   "id": "5c8f6039",
   "metadata": {},
   "outputs": [
    {
     "data": {
      "text/plain": [
       "bool"
      ]
     },
     "execution_count": 12,
     "metadata": {},
     "output_type": "execute_result"
    }
   ],
   "source": [
    "type(True)"
   ]
  },
  {
   "cell_type": "code",
   "execution_count": 13,
   "id": "1b9fe2e6",
   "metadata": {},
   "outputs": [
    {
     "data": {
      "text/plain": [
       "str"
      ]
     },
     "execution_count": 13,
     "metadata": {},
     "output_type": "execute_result"
    }
   ],
   "source": [
    "type('True')"
   ]
  },
  {
   "cell_type": "code",
   "execution_count": 14,
   "id": "78a43858",
   "metadata": {},
   "outputs": [
    {
     "data": {
      "text/plain": [
       "list"
      ]
     },
     "execution_count": 14,
     "metadata": {},
     "output_type": "execute_result"
    }
   ],
   "source": [
    "type([{}])"
   ]
  },
  {
   "cell_type": "code",
   "execution_count": 15,
   "id": "241ca1b9",
   "metadata": {},
   "outputs": [
    {
     "data": {
      "text/plain": [
       "dict"
      ]
     },
     "execution_count": 15,
     "metadata": {},
     "output_type": "execute_result"
    }
   ],
   "source": [
    "type({'a':[]})"
   ]
  },
  {
   "cell_type": "code",
   "execution_count": 16,
   "id": "d4ed1204",
   "metadata": {},
   "outputs": [],
   "source": [
    "# 2 What data type would best represent the following\n",
    "\n",
    "# a term or phrase typed into a search boxabs\n",
    "# string\n",
    "\n",
    "# whether or not a user is logged in\n",
    "# bool\n",
    "\n",
    "# a discount amount to apply to a user's shopping cart\n",
    "# float\n",
    "\n",
    "# Whether or not a coupon is valid\n",
    "# Bool\n",
    "\n",
    "# An email address typed into a registration form\n",
    "# str\n",
    "\n",
    "# price of a product\n",
    "# float\n",
    "\n",
    "# the email address collected from a registration form\n",
    "# list\n",
    "\n",
    "# Information about applicants to Codeup's Data Science Program\n",
    "# dict\n",
    "\n"
   ]
  },
  {
   "cell_type": "code",
   "execution_count": 33,
   "id": "699d15fb",
   "metadata": {},
   "outputs": [],
   "source": [
    "# 3 For each of the following code blocks: (1) read the expression and predict evaluated results (2) execute\n",
    "\n",
    "# '1' + 2 prediction is error because '1' is a string\n",
    "1'+2\n"
   ]
  },
  {
   "cell_type": "code",
   "execution_count": 36,
   "id": "4da5cb18",
   "metadata": {},
   "outputs": [],
   "source": [
    "# 6 % 4 prediction is 1; Output was 2 % is NOT a quotient like MySQL.  It is a string formatting key"
   ]
  },
  {
   "cell_type": "code",
   "execution_count": 57,
   "id": "54548868",
   "metadata": {},
   "outputs": [
    {
     "data": {
      "text/plain": [
       "2"
      ]
     },
     "execution_count": 57,
     "metadata": {},
     "output_type": "execute_result"
    }
   ],
   "source": [
    "6 % 4"
   ]
  },
  {
   "cell_type": "code",
   "execution_count": 38,
   "id": "8d5f5693",
   "metadata": {},
   "outputs": [],
   "source": [
    "# type(6%4) prediction is str but answer was int"
   ]
  },
  {
   "cell_type": "code",
   "execution_count": 39,
   "id": "b6020a56",
   "metadata": {},
   "outputs": [
    {
     "data": {
      "text/plain": [
       "int"
      ]
     },
     "execution_count": 39,
     "metadata": {},
     "output_type": "execute_result"
    }
   ],
   "source": [
    "type(6%4)\n"
   ]
  },
  {
   "cell_type": "code",
   "execution_count": 40,
   "id": "ce673cc3",
   "metadata": {},
   "outputs": [],
   "source": [
    "# type(type(6%4)) prediction is string but answer is type"
   ]
  },
  {
   "cell_type": "code",
   "execution_count": 41,
   "id": "31dcacee",
   "metadata": {},
   "outputs": [
    {
     "data": {
      "text/plain": [
       "type"
      ]
     },
     "execution_count": 41,
     "metadata": {},
     "output_type": "execute_result"
    }
   ],
   "source": [
    "type(type(6%4))"
   ]
  },
  {
   "cell_type": "code",
   "execution_count": 42,
   "id": "e3ddf251",
   "metadata": {},
   "outputs": [],
   "source": [
    "# '3+4 is ' +3+4 prediction is error"
   ]
  },
  {
   "cell_type": "code",
   "execution_count": 43,
   "id": "d31f0d25",
   "metadata": {},
   "outputs": [
    {
     "ename": "TypeError",
     "evalue": "can only concatenate str (not \"int\") to str",
     "output_type": "error",
     "traceback": [
      "\u001b[0;31m---------------------------------------------------------------------------\u001b[0m",
      "\u001b[0;31mTypeError\u001b[0m                                 Traceback (most recent call last)",
      "Cell \u001b[0;32mIn[43], line 1\u001b[0m\n\u001b[0;32m----> 1\u001b[0m \u001b[38;5;124m'\u001b[39m\u001b[38;5;124m3+4 is \u001b[39m\u001b[38;5;124m'\u001b[39m \u001b[38;5;241m+\u001b[39m \u001b[38;5;241m3\u001b[39m\u001b[38;5;241m+\u001b[39m\u001b[38;5;241m4\u001b[39m\n",
      "\u001b[0;31mTypeError\u001b[0m: can only concatenate str (not \"int\") to str"
     ]
    }
   ],
   "source": [
    "'3+4 is ' + 3+4"
   ]
  },
  {
   "cell_type": "code",
   "execution_count": 44,
   "id": "de0798cc",
   "metadata": {},
   "outputs": [],
   "source": [
    "# 0<0 prediction is false"
   ]
  },
  {
   "cell_type": "code",
   "execution_count": 45,
   "id": "2e60ea68",
   "metadata": {},
   "outputs": [
    {
     "data": {
      "text/plain": [
       "False"
      ]
     },
     "execution_count": 45,
     "metadata": {},
     "output_type": "execute_result"
    }
   ],
   "source": [
    "0<0"
   ]
  },
  {
   "cell_type": "code",
   "execution_count": 46,
   "id": "27edf384",
   "metadata": {},
   "outputs": [],
   "source": [
    "# 'False' == False prediction is False"
   ]
  },
  {
   "cell_type": "code",
   "execution_count": 47,
   "id": "3a3668de",
   "metadata": {},
   "outputs": [
    {
     "data": {
      "text/plain": [
       "False"
      ]
     },
     "execution_count": 47,
     "metadata": {},
     "output_type": "execute_result"
    }
   ],
   "source": [
    "'False' == False"
   ]
  },
  {
   "cell_type": "code",
   "execution_count": 48,
   "id": "0bcd8d24",
   "metadata": {},
   "outputs": [],
   "source": [
    "# True == ' True'prediction is False"
   ]
  },
  {
   "cell_type": "code",
   "execution_count": 49,
   "id": "74409515",
   "metadata": {},
   "outputs": [
    {
     "data": {
      "text/plain": [
       "False"
      ]
     },
     "execution_count": 49,
     "metadata": {},
     "output_type": "execute_result"
    }
   ],
   "source": [
    "True == 'True'"
   ]
  },
  {
   "cell_type": "code",
   "execution_count": 50,
   "id": "d92eaab8",
   "metadata": {},
   "outputs": [],
   "source": [
    "# 5>= -5 prediction is True"
   ]
  },
  {
   "cell_type": "code",
   "execution_count": 51,
   "id": "4e6f8592",
   "metadata": {},
   "outputs": [
    {
     "data": {
      "text/plain": [
       "True"
      ]
     },
     "execution_count": 51,
     "metadata": {},
     "output_type": "execute_result"
    }
   ],
   "source": [
    "5>=-5"
   ]
  },
  {
   "cell_type": "code",
   "execution_count": 52,
   "id": "ec444aa4",
   "metadata": {},
   "outputs": [],
   "source": [
    "#True or \"42\" prediction is True\n"
   ]
  },
  {
   "cell_type": "code",
   "execution_count": 53,
   "id": "0e1da504",
   "metadata": {},
   "outputs": [
    {
     "data": {
      "text/plain": [
       "True"
      ]
     },
     "execution_count": 53,
     "metadata": {},
     "output_type": "execute_result"
    }
   ],
   "source": [
    "True or \"42\""
   ]
  },
  {
   "cell_type": "code",
   "execution_count": 54,
   "id": "1558f809",
   "metadata": {},
   "outputs": [],
   "source": [
    "# 6 %5 prediction is 1 not sure why"
   ]
  },
  {
   "cell_type": "code",
   "execution_count": 56,
   "id": "3114ff9b",
   "metadata": {},
   "outputs": [
    {
     "data": {
      "text/plain": [
       "1"
      ]
     },
     "execution_count": 56,
     "metadata": {},
     "output_type": "execute_result"
    }
   ],
   "source": [
    "6 % 5"
   ]
  },
  {
   "cell_type": "code",
   "execution_count": 58,
   "id": "2e8b3a50",
   "metadata": {},
   "outputs": [],
   "source": [
    "# 5<4 and 1 == 1 prediction is False"
   ]
  },
  {
   "cell_type": "code",
   "execution_count": 59,
   "id": "0850c0c2",
   "metadata": {},
   "outputs": [
    {
     "data": {
      "text/plain": [
       "False"
      ]
     },
     "execution_count": 59,
     "metadata": {},
     "output_type": "execute_result"
    }
   ],
   "source": [
    "5<4 and 1 == 1"
   ]
  },
  {
   "cell_type": "code",
   "execution_count": 60,
   "id": "a15cc261",
   "metadata": {},
   "outputs": [],
   "source": [
    "#'codeup' == 'codeup' and 'codeup' == 'Codeup' prediction is False"
   ]
  },
  {
   "cell_type": "code",
   "execution_count": 61,
   "id": "d5c4e035",
   "metadata": {},
   "outputs": [
    {
     "data": {
      "text/plain": [
       "False"
      ]
     },
     "execution_count": 61,
     "metadata": {},
     "output_type": "execute_result"
    }
   ],
   "source": [
    "'codeup' == 'codeup' and 'codeup' == 'Codeup'"
   ]
  },
  {
   "cell_type": "code",
   "execution_count": 62,
   "id": "d258e01f",
   "metadata": {},
   "outputs": [],
   "source": [
    "# 4>0 and 1 !== '1' prediction is error due to !==\n"
   ]
  },
  {
   "cell_type": "code",
   "execution_count": 63,
   "id": "fc138b52",
   "metadata": {},
   "outputs": [
    {
     "ename": "SyntaxError",
     "evalue": "invalid syntax (2426949282.py, line 1)",
     "output_type": "error",
     "traceback": [
      "\u001b[0;36m  Cell \u001b[0;32mIn[63], line 1\u001b[0;36m\u001b[0m\n\u001b[0;31m    4>0 and 1 !== '1'\u001b[0m\n\u001b[0m                ^\u001b[0m\n\u001b[0;31mSyntaxError\u001b[0m\u001b[0;31m:\u001b[0m invalid syntax\n"
     ]
    }
   ],
   "source": [
    "4>0 and 1 !== '1'"
   ]
  },
  {
   "cell_type": "code",
   "execution_count": 64,
   "id": "8adc4641",
   "metadata": {},
   "outputs": [],
   "source": [
    "# 6%3 == 0 prediction is True"
   ]
  },
  {
   "cell_type": "code",
   "execution_count": 65,
   "id": "00c37250",
   "metadata": {},
   "outputs": [
    {
     "data": {
      "text/plain": [
       "True"
      ]
     },
     "execution_count": 65,
     "metadata": {},
     "output_type": "execute_result"
    }
   ],
   "source": [
    "6%3 == 0"
   ]
  },
  {
   "cell_type": "code",
   "execution_count": 66,
   "id": "d4298330",
   "metadata": {},
   "outputs": [],
   "source": [
    "#5 %2 != 0 prediction is True"
   ]
  },
  {
   "cell_type": "code",
   "execution_count": 67,
   "id": "27e5632f",
   "metadata": {},
   "outputs": [
    {
     "data": {
      "text/plain": [
       "True"
      ]
     },
     "execution_count": 67,
     "metadata": {},
     "output_type": "execute_result"
    }
   ],
   "source": [
    "5%2 != 0"
   ]
  },
  {
   "cell_type": "code",
   "execution_count": 68,
   "id": "5f66a974",
   "metadata": {},
   "outputs": [],
   "source": [
    "#[1] + 2 predition is error"
   ]
  },
  {
   "cell_type": "code",
   "execution_count": 69,
   "id": "9a3ebb24",
   "metadata": {},
   "outputs": [
    {
     "ename": "TypeError",
     "evalue": "can only concatenate list (not \"int\") to list",
     "output_type": "error",
     "traceback": [
      "\u001b[0;31m---------------------------------------------------------------------------\u001b[0m",
      "\u001b[0;31mTypeError\u001b[0m                                 Traceback (most recent call last)",
      "Cell \u001b[0;32mIn[69], line 1\u001b[0m\n\u001b[0;32m----> 1\u001b[0m [\u001b[38;5;241m1\u001b[39m] \u001b[38;5;241m+\u001b[39m\u001b[38;5;241m2\u001b[39m\n",
      "\u001b[0;31mTypeError\u001b[0m: can only concatenate list (not \"int\") to list"
     ]
    }
   ],
   "source": [
    "[1] +2"
   ]
  },
  {
   "cell_type": "code",
   "execution_count": 70,
   "id": "411f27bd",
   "metadata": {},
   "outputs": [],
   "source": [
    "# [1] + [2] prediction is [1,2]"
   ]
  },
  {
   "cell_type": "code",
   "execution_count": 71,
   "id": "2a315638",
   "metadata": {},
   "outputs": [
    {
     "data": {
      "text/plain": [
       "[1, 2]"
      ]
     },
     "execution_count": 71,
     "metadata": {},
     "output_type": "execute_result"
    }
   ],
   "source": [
    "[1] + [2]"
   ]
  },
  {
   "cell_type": "code",
   "execution_count": 72,
   "id": "0528db71",
   "metadata": {},
   "outputs": [],
   "source": [
    "# [1] * 2 prediction is [1,1]"
   ]
  },
  {
   "cell_type": "code",
   "execution_count": 73,
   "id": "3f341c22",
   "metadata": {},
   "outputs": [
    {
     "data": {
      "text/plain": [
       "[1, 1]"
      ]
     },
     "execution_count": 73,
     "metadata": {},
     "output_type": "execute_result"
    }
   ],
   "source": [
    "[1] *2 "
   ]
  },
  {
   "cell_type": "code",
   "execution_count": 74,
   "id": "47888dc7",
   "metadata": {},
   "outputs": [],
   "source": [
    "#[1] * [2] prediction is [1,2] but answer was error"
   ]
  },
  {
   "cell_type": "code",
   "execution_count": 75,
   "id": "c4a5368f",
   "metadata": {},
   "outputs": [
    {
     "ename": "TypeError",
     "evalue": "can't multiply sequence by non-int of type 'list'",
     "output_type": "error",
     "traceback": [
      "\u001b[0;31m---------------------------------------------------------------------------\u001b[0m",
      "\u001b[0;31mTypeError\u001b[0m                                 Traceback (most recent call last)",
      "Cell \u001b[0;32mIn[75], line 1\u001b[0m\n\u001b[0;32m----> 1\u001b[0m [\u001b[38;5;241m1\u001b[39m] \u001b[38;5;241m*\u001b[39m [\u001b[38;5;241m2\u001b[39m]\n",
      "\u001b[0;31mTypeError\u001b[0m: can't multiply sequence by non-int of type 'list'"
     ]
    }
   ],
   "source": [
    "[1] * [2]"
   ]
  },
  {
   "cell_type": "code",
   "execution_count": 76,
   "id": "47baf430",
   "metadata": {},
   "outputs": [],
   "source": [
    "#[] + [] prediction is []"
   ]
  },
  {
   "cell_type": "code",
   "execution_count": 77,
   "id": "361a6be1",
   "metadata": {},
   "outputs": [
    {
     "data": {
      "text/plain": [
       "[]"
      ]
     },
     "execution_count": 77,
     "metadata": {},
     "output_type": "execute_result"
    }
   ],
   "source": [
    "[] + []"
   ]
  },
  {
   "cell_type": "code",
   "execution_count": 78,
   "id": "c71f38c4",
   "metadata": {},
   "outputs": [],
   "source": [
    "#{} +{} prediction is error"
   ]
  },
  {
   "cell_type": "code",
   "execution_count": 79,
   "id": "0844909e",
   "metadata": {},
   "outputs": [
    {
     "ename": "TypeError",
     "evalue": "unsupported operand type(s) for +: 'dict' and 'dict'",
     "output_type": "error",
     "traceback": [
      "\u001b[0;31m---------------------------------------------------------------------------\u001b[0m",
      "\u001b[0;31mTypeError\u001b[0m                                 Traceback (most recent call last)",
      "Cell \u001b[0;32mIn[79], line 1\u001b[0m\n\u001b[0;32m----> 1\u001b[0m {} \u001b[38;5;241m+\u001b[39m {}\n",
      "\u001b[0;31mTypeError\u001b[0m: unsupported operand type(s) for +: 'dict' and 'dict'"
     ]
    }
   ],
   "source": [
    "{} + {}"
   ]
  },
  {
   "cell_type": "code",
   "execution_count": 140,
   "id": "384376f2",
   "metadata": {},
   "outputs": [
    {
     "name": "stdout",
     "output_type": "stream",
     "text": [
      "Total cost for renting the movies: $27\n"
     ]
    }
   ],
   "source": [
    "# 4 3 movies rented at $3 per day.  1 is for 3 days, 1 is for 5 days, and 1 is for 1 day\n",
    "\n",
    "# define daily_fee variable as df\n",
    "df = 3\n",
    "\n",
    "# create dictionary of movie durations\n",
    "durations = {\n",
    "    'tlm':3, 'bb':5,'Herc':1\n",
    "}\n",
    "\n",
    "# calculate fee as summation of df * days ## use for loop to iterate through values in durations dict identified as\n",
    "# days\n",
    "fee = sum(df*days for days in durations.values())\n",
    "\n",
    "print(f'Total cost for renting the movies: ${fee}')\n",
    "\n",
    "### simpler method assign df and one to one duration relationships (tlm + bb + herc)*3 ###"
   ]
  },
  {
   "cell_type": "code",
   "execution_count": 145,
   "id": "5a1e2b21",
   "metadata": {},
   "outputs": [
    {
     "name": "stdout",
     "output_type": "stream",
     "text": [
      "{'google': 2400, 'amazon': 1520, 'fb': 3500}\n",
      "7420\n"
     ]
    }
   ],
   "source": [
    "#5 working as a contractor for 3 companies: Google, Amazon, & Facebook.  \n",
    "#5 Hrly rates are Google $400, Amazon $380,FB $350.  Hrs wrkd are G = 6, A = 4, FB = 10; what is payment\n",
    "\n",
    "# define parameters hourly_rates and hrs worked\n",
    "hourly_rates = {\n",
    "    'google': 400, 'amazon': 380, 'fb': 350\n",
    "}\n",
    "hrs_worked = {\n",
    "    'google':6, 'amazon': 4, 'fb':10\n",
    "}\n",
    "\n",
    "# calculate payments from each company by creating a third dict that iterates through \n",
    "payments = {company: hours * hourly_rates[company] for company, hours in hrs_worked.items()}\n",
    "print(payments)\n",
    "\n",
    "# summate\n",
    "total_payment = sum(payments.values())\n",
    "print(total_payment)\n",
    "\n",
    "### other method (hrly_rate * hrs_worked) + (same) + (same)"
   ]
  },
  {
   "cell_type": "code",
   "execution_count": 150,
   "id": "a8d1cbaf",
   "metadata": {},
   "outputs": [
    {
     "data": {
      "text/plain": [
       "True"
      ]
     },
     "execution_count": 150,
     "metadata": {},
     "output_type": "execute_result"
    }
   ],
   "source": [
    "# 6 A student can be enrolled in a class only if the class is not full and the class schedule does not \n",
    "# conflict with her current schedule.\n",
    "\n",
    "# boolean\n",
    "class_not_full = True\n",
    "no_schedule_conflict = True\n",
    "student_can_enroll = class_not_full and no_schedule_conflict\n",
    "student_can_enroll\n",
    "\n",
    "# # Define class information\n",
    "# class_capacity = 30  # Maximum capacity of the class\n",
    "# current_enrollment = 25  # Current number of students enrolled\n",
    "\n",
    "# # Define class schedule\n",
    "# class_start_time = '10:00 AM'\n",
    "# class_end_time = '11:30 AM'\n",
    "\n",
    "# # Define student's current schedule\n",
    "# student_schedule_start = '9:30 AM'\n",
    "# student_schedule_end = '11:00 AM'\n",
    "\n",
    "# # Check the conditions for enrollment\n",
    "# class_not_full = current_enrollment < class_capacity\n",
    "# no_schedule_conflict = (\n",
    "#     student_schedule_end <= class_start_time or\n",
    "#     student_schedule_start >= class_end_time\n",
    "# )\n",
    "\n",
    "# # Check if the student can enroll\n",
    "# if class_not_full and no_schedule_conflict:\n",
    "#     print(\"The student can enroll in the class.\")\n",
    "# else:\n",
    "#     print(\"The student cannot enroll in the class.\")\n",
    "\n",
    "\n"
   ]
  },
  {
   "cell_type": "code",
   "execution_count": 149,
   "id": "872b9405",
   "metadata": {},
   "outputs": [
    {
     "data": {
      "text/plain": [
       "True"
      ]
     },
     "execution_count": 149,
     "metadata": {},
     "output_type": "execute_result"
    }
   ],
   "source": [
    "# 7 A product offer can be applied only if a customer buys more than 2 items, and the offer has not expired. Premium \n",
    "# members do not need to buy a specific amount of products.\n",
    "\n",
    "# boolean\n",
    "buy_more_than_2 = True\n",
    "offer_expired = False\n",
    "is_premium = True\n",
    "\n",
    "product_offer = (buy_more_than_2 or is_premium) and not offer_expired\n",
    "product_offer\n",
    "\n",
    "# # Define customer information\n",
    "# number_of_items_purchased = 3  # Number of items purchased by the customer\n",
    "# is_premium_member = True  # Whether the customer is a premium member\n",
    "# offer_expired = False  # Whether the offer has expired\n",
    "\n",
    "# # Check the conditions for the product offer\n",
    "# if is_premium_member:\n",
    "#     # Premium members do not need to buy a specific number of products\n",
    "#     if not offer_expired:\n",
    "#         print(\"The product offer can be applied to a premium member.\")\n",
    "#     else:\n",
    "#         print(\"The offer has expired and cannot be applied.\")\n",
    "# else:\n",
    "#     # For non-premium members\n",
    "#     if number_of_items_purchased > 2 and not offer_expired:\n",
    "#         print(\"The product offer can be applied to the customer.\")\n",
    "#     else:\n",
    "#         print(\"The customer does not meet the criteria for the product offer.\")\n"
   ]
  },
  {
   "cell_type": "code",
   "execution_count": 136,
   "id": "385629b8",
   "metadata": {},
   "outputs": [
    {
     "name": "stdout",
     "output_type": "stream",
     "text": [
      "Is the password at least 5 characters? True\n",
      "Is the username no more than 20 characters? True\n",
      "Is the password different from the username? True\n"
     ]
    }
   ],
   "source": [
    "# 8 Create a variable that holds a boolean value for each of the following conditions:\n",
    "\n",
    "# The password must be at least 5 characters\n",
    "# The username must be no more than 20 characters\n",
    "# The password must not be the same as the username\n",
    "username = 'codeup'\n",
    "password = 'notastrongpassword'\n",
    "\n",
    "valid_password = len(password) >= 5\n",
    "valid_username = len(username) <= 20\n",
    "password_username_cross_check_good = password != username\n",
    "\n",
    "print(f'Is the password at least 5 characters? {valid_password}')\n",
    "print(f'Is the username no more than 20 characters? {valid_username}')\n",
    "print(f'Is the password different from the username? {password_username_cross_check_good}')"
   ]
  }
 ],
 "metadata": {
  "kernelspec": {
   "display_name": "Python 3 (ipykernel)",
   "language": "python",
   "name": "python3"
  },
  "language_info": {
   "codemirror_mode": {
    "name": "ipython",
    "version": 3
   },
   "file_extension": ".py",
   "mimetype": "text/x-python",
   "name": "python",
   "nbconvert_exporter": "python",
   "pygments_lexer": "ipython3",
   "version": "3.11.5"
  }
 },
 "nbformat": 4,
 "nbformat_minor": 5
}
